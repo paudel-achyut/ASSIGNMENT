{
  "nbformat": 4,
  "nbformat_minor": 0,
  "metadata": {
    "colab": {
      "provenance": []
    },
    "kernelspec": {
      "name": "python3",
      "display_name": "Python 3"
    },
    "language_info": {
      "name": "python"
    }
  },
  "cells": [
    {
      "cell_type": "markdown",
      "source": [
        "# **Assignment Two: Generative Model**\n",
        "\n",
        "\n",
        "## Context:\n",
        "\n",
        "---\n",
        "The goal of this exercise is to create a generative adversarial network to reproduce the tabular data found https://github.com/JeffersonLab/jlab_datascience_data/blob/main/eICU_age.npy. The dataset includes the ages of critical care patients seen across intensive care units in the United States. The original data is from the eICU Collaborative Research Database https://eicu-crd.mit.edu/about/eicu/. To solve this problem implement a generative adversarial network (GAN) in python to produce the distribution of age for these patients. Your script must coordinate both the generator and discriminator models. Please provide figures to illustrate this coordination and compare the distribution from the generator model output with that of the true distribution.\n",
        "\n",
        "---\n",
        "\n",
        "\n",
        "\n",
        "\n",
        "> Indented block\n",
        "\n",
        "\n"
      ],
      "metadata": {
        "id": "uthA9lJPfyAc"
      }
    },
    {
      "cell_type": "markdown",
      "source": [
        "---\n",
        "## **Importing necessary libraries**\n",
        "---"
      ],
      "metadata": {
        "id": "00IfH8U-gqJE"
      }
    },
    {
      "cell_type": "code",
      "execution_count": 1,
      "metadata": {
        "id": "RHQiP8a-ECU_"
      },
      "outputs": [],
      "source": [
        "import numpy as np\n",
        "import matplotlib.pyplot as plt\n",
        "import tensorflow as tf\n",
        "from tensorflow.keras.layers import Dense\n",
        "from tensorflow.keras.models import Sequential\n",
        "import pandas as pd\n",
        "import seaborn as sns\n",
        "from scipy.stats import entropy\n"
      ]
    },
    {
      "cell_type": "markdown",
      "source": [
        "---\n",
        "## **Load Data**\n",
        "---"
      ],
      "metadata": {
        "id": "5gLZqIMfg4gW"
      }
    },
    {
      "cell_type": "code",
      "source": [
        "# Load dataset\n",
        "data_url = \"https://github.com/JeffersonLab/jlab_datascience_data/blob/main/eICU_age.npy?raw=true\"\n",
        "ages = np.load(tf.keras.utils.get_file(\"eICU_age.npy\", data_url))\n",
        "df = pd.DataFrame(ages)"
      ],
      "metadata": {
        "id": "5lPKPaY8E3Eq"
      },
      "execution_count": 2,
      "outputs": []
    },
    {
      "cell_type": "markdown",
      "source": [
        "---\n",
        "## **Explotary Data Analysis (EDA)**\n",
        "---"
      ],
      "metadata": {
        "id": "MlAvpHkThC71"
      }
    },
    {
      "cell_type": "code",
      "source": [
        "# Display first five rows\n",
        "df.head()"
      ],
      "metadata": {
        "colab": {
          "base_uri": "https://localhost:8080/",
          "height": 206
        },
        "id": "LPVRfiMhhPLH",
        "outputId": "3873375a-00e1-415d-bfeb-d381b0588da9"
      },
      "execution_count": 3,
      "outputs": [
        {
          "output_type": "execute_result",
          "data": {
            "text/plain": [
              "   age\n",
              "0   87\n",
              "1   87\n",
              "2   76\n",
              "3   34\n",
              "4   61"
            ],
            "text/html": [
              "\n",
              "  <div id=\"df-a1713696-830d-4df5-bdaa-69c85405e098\">\n",
              "    <div class=\"colab-df-container\">\n",
              "      <div>\n",
              "<style scoped>\n",
              "    .dataframe tbody tr th:only-of-type {\n",
              "        vertical-align: middle;\n",
              "    }\n",
              "\n",
              "    .dataframe tbody tr th {\n",
              "        vertical-align: top;\n",
              "    }\n",
              "\n",
              "    .dataframe thead th {\n",
              "        text-align: right;\n",
              "    }\n",
              "</style>\n",
              "<table border=\"1\" class=\"dataframe\">\n",
              "  <thead>\n",
              "    <tr style=\"text-align: right;\">\n",
              "      <th></th>\n",
              "      <th>age</th>\n",
              "    </tr>\n",
              "  </thead>\n",
              "  <tbody>\n",
              "    <tr>\n",
              "      <th>0</th>\n",
              "      <td>87</td>\n",
              "    </tr>\n",
              "    <tr>\n",
              "      <th>1</th>\n",
              "      <td>87</td>\n",
              "    </tr>\n",
              "    <tr>\n",
              "      <th>2</th>\n",
              "      <td>76</td>\n",
              "    </tr>\n",
              "    <tr>\n",
              "      <th>3</th>\n",
              "      <td>34</td>\n",
              "    </tr>\n",
              "    <tr>\n",
              "      <th>4</th>\n",
              "      <td>61</td>\n",
              "    </tr>\n",
              "  </tbody>\n",
              "</table>\n",
              "</div>\n",
              "      <button class=\"colab-df-convert\" onclick=\"convertToInteractive('df-a1713696-830d-4df5-bdaa-69c85405e098')\"\n",
              "              title=\"Convert this dataframe to an interactive table.\"\n",
              "              style=\"display:none;\">\n",
              "        \n",
              "  <svg xmlns=\"http://www.w3.org/2000/svg\" height=\"24px\"viewBox=\"0 0 24 24\"\n",
              "       width=\"24px\">\n",
              "    <path d=\"M0 0h24v24H0V0z\" fill=\"none\"/>\n",
              "    <path d=\"M18.56 5.44l.94 2.06.94-2.06 2.06-.94-2.06-.94-.94-2.06-.94 2.06-2.06.94zm-11 1L8.5 8.5l.94-2.06 2.06-.94-2.06-.94L8.5 2.5l-.94 2.06-2.06.94zm10 10l.94 2.06.94-2.06 2.06-.94-2.06-.94-.94-2.06-.94 2.06-2.06.94z\"/><path d=\"M17.41 7.96l-1.37-1.37c-.4-.4-.92-.59-1.43-.59-.52 0-1.04.2-1.43.59L10.3 9.45l-7.72 7.72c-.78.78-.78 2.05 0 2.83L4 21.41c.39.39.9.59 1.41.59.51 0 1.02-.2 1.41-.59l7.78-7.78 2.81-2.81c.8-.78.8-2.07 0-2.86zM5.41 20L4 18.59l7.72-7.72 1.47 1.35L5.41 20z\"/>\n",
              "  </svg>\n",
              "      </button>\n",
              "      \n",
              "  <style>\n",
              "    .colab-df-container {\n",
              "      display:flex;\n",
              "      flex-wrap:wrap;\n",
              "      gap: 12px;\n",
              "    }\n",
              "\n",
              "    .colab-df-convert {\n",
              "      background-color: #E8F0FE;\n",
              "      border: none;\n",
              "      border-radius: 50%;\n",
              "      cursor: pointer;\n",
              "      display: none;\n",
              "      fill: #1967D2;\n",
              "      height: 32px;\n",
              "      padding: 0 0 0 0;\n",
              "      width: 32px;\n",
              "    }\n",
              "\n",
              "    .colab-df-convert:hover {\n",
              "      background-color: #E2EBFA;\n",
              "      box-shadow: 0px 1px 2px rgba(60, 64, 67, 0.3), 0px 1px 3px 1px rgba(60, 64, 67, 0.15);\n",
              "      fill: #174EA6;\n",
              "    }\n",
              "\n",
              "    [theme=dark] .colab-df-convert {\n",
              "      background-color: #3B4455;\n",
              "      fill: #D2E3FC;\n",
              "    }\n",
              "\n",
              "    [theme=dark] .colab-df-convert:hover {\n",
              "      background-color: #434B5C;\n",
              "      box-shadow: 0px 1px 3px 1px rgba(0, 0, 0, 0.15);\n",
              "      filter: drop-shadow(0px 1px 2px rgba(0, 0, 0, 0.3));\n",
              "      fill: #FFFFFF;\n",
              "    }\n",
              "  </style>\n",
              "\n",
              "      <script>\n",
              "        const buttonEl =\n",
              "          document.querySelector('#df-a1713696-830d-4df5-bdaa-69c85405e098 button.colab-df-convert');\n",
              "        buttonEl.style.display =\n",
              "          google.colab.kernel.accessAllowed ? 'block' : 'none';\n",
              "\n",
              "        async function convertToInteractive(key) {\n",
              "          const element = document.querySelector('#df-a1713696-830d-4df5-bdaa-69c85405e098');\n",
              "          const dataTable =\n",
              "            await google.colab.kernel.invokeFunction('convertToInteractive',\n",
              "                                                     [key], {});\n",
              "          if (!dataTable) return;\n",
              "\n",
              "          const docLinkHtml = 'Like what you see? Visit the ' +\n",
              "            '<a target=\"_blank\" href=https://colab.research.google.com/notebooks/data_table.ipynb>data table notebook</a>'\n",
              "            + ' to learn more about interactive tables.';\n",
              "          element.innerHTML = '';\n",
              "          dataTable['output_type'] = 'display_data';\n",
              "          await google.colab.output.renderOutput(dataTable, element);\n",
              "          const docLink = document.createElement('div');\n",
              "          docLink.innerHTML = docLinkHtml;\n",
              "          element.appendChild(docLink);\n",
              "        }\n",
              "      </script>\n",
              "    </div>\n",
              "  </div>\n",
              "  "
            ]
          },
          "metadata": {},
          "execution_count": 3
        }
      ]
    },
    {
      "cell_type": "code",
      "source": [
        "# display last five rows\n",
        "df.head()"
      ],
      "metadata": {
        "colab": {
          "base_uri": "https://localhost:8080/",
          "height": 206
        },
        "id": "-1fE3UC4hXZv",
        "outputId": "0c108231-8373-4b95-92bb-fd61316aada2"
      },
      "execution_count": 4,
      "outputs": [
        {
          "output_type": "execute_result",
          "data": {
            "text/plain": [
              "   age\n",
              "0   87\n",
              "1   87\n",
              "2   76\n",
              "3   34\n",
              "4   61"
            ],
            "text/html": [
              "\n",
              "  <div id=\"df-a66af0e0-6759-4f51-9cba-a8c4d638d862\">\n",
              "    <div class=\"colab-df-container\">\n",
              "      <div>\n",
              "<style scoped>\n",
              "    .dataframe tbody tr th:only-of-type {\n",
              "        vertical-align: middle;\n",
              "    }\n",
              "\n",
              "    .dataframe tbody tr th {\n",
              "        vertical-align: top;\n",
              "    }\n",
              "\n",
              "    .dataframe thead th {\n",
              "        text-align: right;\n",
              "    }\n",
              "</style>\n",
              "<table border=\"1\" class=\"dataframe\">\n",
              "  <thead>\n",
              "    <tr style=\"text-align: right;\">\n",
              "      <th></th>\n",
              "      <th>age</th>\n",
              "    </tr>\n",
              "  </thead>\n",
              "  <tbody>\n",
              "    <tr>\n",
              "      <th>0</th>\n",
              "      <td>87</td>\n",
              "    </tr>\n",
              "    <tr>\n",
              "      <th>1</th>\n",
              "      <td>87</td>\n",
              "    </tr>\n",
              "    <tr>\n",
              "      <th>2</th>\n",
              "      <td>76</td>\n",
              "    </tr>\n",
              "    <tr>\n",
              "      <th>3</th>\n",
              "      <td>34</td>\n",
              "    </tr>\n",
              "    <tr>\n",
              "      <th>4</th>\n",
              "      <td>61</td>\n",
              "    </tr>\n",
              "  </tbody>\n",
              "</table>\n",
              "</div>\n",
              "      <button class=\"colab-df-convert\" onclick=\"convertToInteractive('df-a66af0e0-6759-4f51-9cba-a8c4d638d862')\"\n",
              "              title=\"Convert this dataframe to an interactive table.\"\n",
              "              style=\"display:none;\">\n",
              "        \n",
              "  <svg xmlns=\"http://www.w3.org/2000/svg\" height=\"24px\"viewBox=\"0 0 24 24\"\n",
              "       width=\"24px\">\n",
              "    <path d=\"M0 0h24v24H0V0z\" fill=\"none\"/>\n",
              "    <path d=\"M18.56 5.44l.94 2.06.94-2.06 2.06-.94-2.06-.94-.94-2.06-.94 2.06-2.06.94zm-11 1L8.5 8.5l.94-2.06 2.06-.94-2.06-.94L8.5 2.5l-.94 2.06-2.06.94zm10 10l.94 2.06.94-2.06 2.06-.94-2.06-.94-.94-2.06-.94 2.06-2.06.94z\"/><path d=\"M17.41 7.96l-1.37-1.37c-.4-.4-.92-.59-1.43-.59-.52 0-1.04.2-1.43.59L10.3 9.45l-7.72 7.72c-.78.78-.78 2.05 0 2.83L4 21.41c.39.39.9.59 1.41.59.51 0 1.02-.2 1.41-.59l7.78-7.78 2.81-2.81c.8-.78.8-2.07 0-2.86zM5.41 20L4 18.59l7.72-7.72 1.47 1.35L5.41 20z\"/>\n",
              "  </svg>\n",
              "      </button>\n",
              "      \n",
              "  <style>\n",
              "    .colab-df-container {\n",
              "      display:flex;\n",
              "      flex-wrap:wrap;\n",
              "      gap: 12px;\n",
              "    }\n",
              "\n",
              "    .colab-df-convert {\n",
              "      background-color: #E8F0FE;\n",
              "      border: none;\n",
              "      border-radius: 50%;\n",
              "      cursor: pointer;\n",
              "      display: none;\n",
              "      fill: #1967D2;\n",
              "      height: 32px;\n",
              "      padding: 0 0 0 0;\n",
              "      width: 32px;\n",
              "    }\n",
              "\n",
              "    .colab-df-convert:hover {\n",
              "      background-color: #E2EBFA;\n",
              "      box-shadow: 0px 1px 2px rgba(60, 64, 67, 0.3), 0px 1px 3px 1px rgba(60, 64, 67, 0.15);\n",
              "      fill: #174EA6;\n",
              "    }\n",
              "\n",
              "    [theme=dark] .colab-df-convert {\n",
              "      background-color: #3B4455;\n",
              "      fill: #D2E3FC;\n",
              "    }\n",
              "\n",
              "    [theme=dark] .colab-df-convert:hover {\n",
              "      background-color: #434B5C;\n",
              "      box-shadow: 0px 1px 3px 1px rgba(0, 0, 0, 0.15);\n",
              "      filter: drop-shadow(0px 1px 2px rgba(0, 0, 0, 0.3));\n",
              "      fill: #FFFFFF;\n",
              "    }\n",
              "  </style>\n",
              "\n",
              "      <script>\n",
              "        const buttonEl =\n",
              "          document.querySelector('#df-a66af0e0-6759-4f51-9cba-a8c4d638d862 button.colab-df-convert');\n",
              "        buttonEl.style.display =\n",
              "          google.colab.kernel.accessAllowed ? 'block' : 'none';\n",
              "\n",
              "        async function convertToInteractive(key) {\n",
              "          const element = document.querySelector('#df-a66af0e0-6759-4f51-9cba-a8c4d638d862');\n",
              "          const dataTable =\n",
              "            await google.colab.kernel.invokeFunction('convertToInteractive',\n",
              "                                                     [key], {});\n",
              "          if (!dataTable) return;\n",
              "\n",
              "          const docLinkHtml = 'Like what you see? Visit the ' +\n",
              "            '<a target=\"_blank\" href=https://colab.research.google.com/notebooks/data_table.ipynb>data table notebook</a>'\n",
              "            + ' to learn more about interactive tables.';\n",
              "          element.innerHTML = '';\n",
              "          dataTable['output_type'] = 'display_data';\n",
              "          await google.colab.output.renderOutput(dataTable, element);\n",
              "          const docLink = document.createElement('div');\n",
              "          docLink.innerHTML = docLinkHtml;\n",
              "          element.appendChild(docLink);\n",
              "        }\n",
              "      </script>\n",
              "    </div>\n",
              "  </div>\n",
              "  "
            ]
          },
          "metadata": {},
          "execution_count": 4
        }
      ]
    },
    {
      "cell_type": "code",
      "source": [
        "# shape of the data\n",
        "df.shape"
      ],
      "metadata": {
        "colab": {
          "base_uri": "https://localhost:8080/"
        },
        "id": "qKa3UNP0hfsV",
        "outputId": "05848e3b-cd0a-44a0-c226-322cbf71ab74"
      },
      "execution_count": 5,
      "outputs": [
        {
          "output_type": "execute_result",
          "data": {
            "text/plain": [
              "(2520, 1)"
            ]
          },
          "metadata": {},
          "execution_count": 5
        }
      ]
    },
    {
      "cell_type": "code",
      "source": [
        "# data the data type of the dataset\n",
        "df.info()"
      ],
      "metadata": {
        "colab": {
          "base_uri": "https://localhost:8080/"
        },
        "id": "yGZLGj9ahkc9",
        "outputId": "28ac8eac-d807-489a-ac0b-ebcf7f007473"
      },
      "execution_count": 6,
      "outputs": [
        {
          "output_type": "stream",
          "name": "stdout",
          "text": [
            "<class 'pandas.core.frame.DataFrame'>\n",
            "RangeIndex: 2520 entries, 0 to 2519\n",
            "Data columns (total 1 columns):\n",
            " #   Column  Non-Null Count  Dtype\n",
            "---  ------  --------------  -----\n",
            " 0   age     2520 non-null   int8 \n",
            "dtypes: int8(1)\n",
            "memory usage: 2.6 KB\n"
          ]
        }
      ]
    },
    {
      "cell_type": "code",
      "source": [
        "# check the statistical summary of the dataset\n",
        "df.describe().T"
      ],
      "metadata": {
        "colab": {
          "base_uri": "https://localhost:8080/",
          "height": 81
        },
        "id": "zmDqJmRXhs7Y",
        "outputId": "5c19b1ff-2bf3-4094-d7f8-85027b09a126"
      },
      "execution_count": 7,
      "outputs": [
        {
          "output_type": "execute_result",
          "data": {
            "text/plain": [
              "      count       mean        std   min   25%   50%   75%   max\n",
              "age  2520.0  63.284524  17.725186  15.0  53.0  66.0  77.0  90.0"
            ],
            "text/html": [
              "\n",
              "  <div id=\"df-e7a721f8-16cf-492d-b0f0-29cdb2aecdd7\">\n",
              "    <div class=\"colab-df-container\">\n",
              "      <div>\n",
              "<style scoped>\n",
              "    .dataframe tbody tr th:only-of-type {\n",
              "        vertical-align: middle;\n",
              "    }\n",
              "\n",
              "    .dataframe tbody tr th {\n",
              "        vertical-align: top;\n",
              "    }\n",
              "\n",
              "    .dataframe thead th {\n",
              "        text-align: right;\n",
              "    }\n",
              "</style>\n",
              "<table border=\"1\" class=\"dataframe\">\n",
              "  <thead>\n",
              "    <tr style=\"text-align: right;\">\n",
              "      <th></th>\n",
              "      <th>count</th>\n",
              "      <th>mean</th>\n",
              "      <th>std</th>\n",
              "      <th>min</th>\n",
              "      <th>25%</th>\n",
              "      <th>50%</th>\n",
              "      <th>75%</th>\n",
              "      <th>max</th>\n",
              "    </tr>\n",
              "  </thead>\n",
              "  <tbody>\n",
              "    <tr>\n",
              "      <th>age</th>\n",
              "      <td>2520.0</td>\n",
              "      <td>63.284524</td>\n",
              "      <td>17.725186</td>\n",
              "      <td>15.0</td>\n",
              "      <td>53.0</td>\n",
              "      <td>66.0</td>\n",
              "      <td>77.0</td>\n",
              "      <td>90.0</td>\n",
              "    </tr>\n",
              "  </tbody>\n",
              "</table>\n",
              "</div>\n",
              "      <button class=\"colab-df-convert\" onclick=\"convertToInteractive('df-e7a721f8-16cf-492d-b0f0-29cdb2aecdd7')\"\n",
              "              title=\"Convert this dataframe to an interactive table.\"\n",
              "              style=\"display:none;\">\n",
              "        \n",
              "  <svg xmlns=\"http://www.w3.org/2000/svg\" height=\"24px\"viewBox=\"0 0 24 24\"\n",
              "       width=\"24px\">\n",
              "    <path d=\"M0 0h24v24H0V0z\" fill=\"none\"/>\n",
              "    <path d=\"M18.56 5.44l.94 2.06.94-2.06 2.06-.94-2.06-.94-.94-2.06-.94 2.06-2.06.94zm-11 1L8.5 8.5l.94-2.06 2.06-.94-2.06-.94L8.5 2.5l-.94 2.06-2.06.94zm10 10l.94 2.06.94-2.06 2.06-.94-2.06-.94-.94-2.06-.94 2.06-2.06.94z\"/><path d=\"M17.41 7.96l-1.37-1.37c-.4-.4-.92-.59-1.43-.59-.52 0-1.04.2-1.43.59L10.3 9.45l-7.72 7.72c-.78.78-.78 2.05 0 2.83L4 21.41c.39.39.9.59 1.41.59.51 0 1.02-.2 1.41-.59l7.78-7.78 2.81-2.81c.8-.78.8-2.07 0-2.86zM5.41 20L4 18.59l7.72-7.72 1.47 1.35L5.41 20z\"/>\n",
              "  </svg>\n",
              "      </button>\n",
              "      \n",
              "  <style>\n",
              "    .colab-df-container {\n",
              "      display:flex;\n",
              "      flex-wrap:wrap;\n",
              "      gap: 12px;\n",
              "    }\n",
              "\n",
              "    .colab-df-convert {\n",
              "      background-color: #E8F0FE;\n",
              "      border: none;\n",
              "      border-radius: 50%;\n",
              "      cursor: pointer;\n",
              "      display: none;\n",
              "      fill: #1967D2;\n",
              "      height: 32px;\n",
              "      padding: 0 0 0 0;\n",
              "      width: 32px;\n",
              "    }\n",
              "\n",
              "    .colab-df-convert:hover {\n",
              "      background-color: #E2EBFA;\n",
              "      box-shadow: 0px 1px 2px rgba(60, 64, 67, 0.3), 0px 1px 3px 1px rgba(60, 64, 67, 0.15);\n",
              "      fill: #174EA6;\n",
              "    }\n",
              "\n",
              "    [theme=dark] .colab-df-convert {\n",
              "      background-color: #3B4455;\n",
              "      fill: #D2E3FC;\n",
              "    }\n",
              "\n",
              "    [theme=dark] .colab-df-convert:hover {\n",
              "      background-color: #434B5C;\n",
              "      box-shadow: 0px 1px 3px 1px rgba(0, 0, 0, 0.15);\n",
              "      filter: drop-shadow(0px 1px 2px rgba(0, 0, 0, 0.3));\n",
              "      fill: #FFFFFF;\n",
              "    }\n",
              "  </style>\n",
              "\n",
              "      <script>\n",
              "        const buttonEl =\n",
              "          document.querySelector('#df-e7a721f8-16cf-492d-b0f0-29cdb2aecdd7 button.colab-df-convert');\n",
              "        buttonEl.style.display =\n",
              "          google.colab.kernel.accessAllowed ? 'block' : 'none';\n",
              "\n",
              "        async function convertToInteractive(key) {\n",
              "          const element = document.querySelector('#df-e7a721f8-16cf-492d-b0f0-29cdb2aecdd7');\n",
              "          const dataTable =\n",
              "            await google.colab.kernel.invokeFunction('convertToInteractive',\n",
              "                                                     [key], {});\n",
              "          if (!dataTable) return;\n",
              "\n",
              "          const docLinkHtml = 'Like what you see? Visit the ' +\n",
              "            '<a target=\"_blank\" href=https://colab.research.google.com/notebooks/data_table.ipynb>data table notebook</a>'\n",
              "            + ' to learn more about interactive tables.';\n",
              "          element.innerHTML = '';\n",
              "          dataTable['output_type'] = 'display_data';\n",
              "          await google.colab.output.renderOutput(dataTable, element);\n",
              "          const docLink = document.createElement('div');\n",
              "          docLink.innerHTML = docLinkHtml;\n",
              "          element.appendChild(docLink);\n",
              "        }\n",
              "      </script>\n",
              "    </div>\n",
              "  </div>\n",
              "  "
            ]
          },
          "metadata": {},
          "execution_count": 7
        }
      ]
    },
    {
      "cell_type": "code",
      "source": [
        "# check if there is any negative value in the data set\n",
        "df.loc[df['age']<0].shape"
      ],
      "metadata": {
        "colab": {
          "base_uri": "https://localhost:8080/"
        },
        "id": "-Hx_nFUph_fA",
        "outputId": "356d57b2-067c-4ebb-a6a5-3a677d59a9b6"
      },
      "execution_count": 8,
      "outputs": [
        {
          "output_type": "execute_result",
          "data": {
            "text/plain": [
              "(0, 1)"
            ]
          },
          "metadata": {},
          "execution_count": 8
        }
      ]
    },
    {
      "cell_type": "code",
      "source": [
        "# check for missing values\n",
        "df.isnull().sum()"
      ],
      "metadata": {
        "colab": {
          "base_uri": "https://localhost:8080/"
        },
        "id": "O3Kz83KvicQq",
        "outputId": "729b4639-8187-4f5d-eaeb-5582609f96fd"
      },
      "execution_count": 9,
      "outputs": [
        {
          "output_type": "execute_result",
          "data": {
            "text/plain": [
              "age    0\n",
              "dtype: int64"
            ]
          },
          "metadata": {},
          "execution_count": 9
        }
      ]
    },
    {
      "cell_type": "code",
      "source": [
        "# Visualize the distribution of the dataset \n",
        "\n",
        "# function to plot a boxplot and a histogram along the same scale.\n",
        "def histogram_boxplot(data, feature, figsize=(12, 7), kde=False, bins=None):\n",
        "    \"\"\"\n",
        "    Boxplot and histogram combined\n",
        "\n",
        "    data: dataframe\n",
        "    feature: dataframe column\n",
        "    figsize: size of figure (default (12,7))\n",
        "    kde: whether to the show density curve (default False)\n",
        "    bins: number of bins for histogram (default None)\n",
        "    \"\"\"\n",
        "    f2, (ax_box2, ax_hist2) = plt.subplots(\n",
        "        nrows=2,  # Number of rows of the subplot grid= 2\n",
        "        sharex=True,  # x-axis will be shared among all subplots\n",
        "        gridspec_kw={\"height_ratios\": (0.25, 0.75)},\n",
        "        figsize=figsize,\n",
        "    )  # creating the 2 subplots\n",
        "    sns.boxplot(\n",
        "        data=data, x=feature, ax=ax_box2, showmeans=True, color=\"violet\"\n",
        "    )  # boxplot will be created and a triangle will indicate the mean value of the column\n",
        "    sns.histplot(\n",
        "        data=data, x=feature, kde=kde, ax=ax_hist2, bins=bins, palette=\"winter\"\n",
        "    ) if bins else sns.histplot(\n",
        "        data=data, x=feature, kde=kde, ax=ax_hist2\n",
        "    )  # For histogram\n",
        "    ax_hist2.axvline(\n",
        "        data[feature].mean(), color=\"green\", linestyle=\"--\"\n",
        "    )  # Add mean to the histogram\n",
        "    ax_hist2.axvline(\n",
        "        data[feature].median(), color=\"black\", linestyle=\"-\"\n",
        "    )  # Add median to the histogram\n",
        "    \n",
        "histogram_boxplot(pd.DataFrame(ages), 'age', figsize=(12, 7), kde=True, bins=None)"
      ],
      "metadata": {
        "colab": {
          "base_uri": "https://localhost:8080/",
          "height": 619
        },
        "id": "xuZeNkPEiwNC",
        "outputId": "21d2a2e0-951f-4571-cea7-eb2ccd5f4a4f"
      },
      "execution_count": 10,
      "outputs": [
        {
          "output_type": "display_data",
          "data": {
            "text/plain": [
              "<Figure size 1200x700 with 2 Axes>"
            ],
            "image/png": "[encoded data removed]"
          },
          "metadata": {}
        }
      ]
    },
    {
      "cell_type": "markdown",
      "source": [
        "---\n",
        "## **Data Preprocessing: Prepare the data for model building**\n",
        "---"
      ],
      "metadata": {
        "id": "m34x6TnwjR6k"
      }
    },
    {
      "cell_type": "code",
      "source": [
        "# Normalize the ages by dividing by the maximum age\n",
        "ages_temp = df.to_numpy()\n",
        "max_age = max(ages_temp)\n",
        "ages_normalized = ages_temp / max_age"
      ],
      "metadata": {
        "id": "DudNPC9Hg_jd"
      },
      "execution_count": 11,
      "outputs": []
    },
    {
      "cell_type": "markdown",
      "source": [
        "---\n",
        "## **Model Building**\n",
        "---"
      ],
      "metadata": {
        "id": "wxI3mdDUjbMM"
      }
    },
    {
      "cell_type": "code",
      "source": [
        "# Create generator model\n",
        "def create_generator(input_dim):\n",
        "    model = Sequential()\n",
        "    model.add(Dense(128, activation=\"relu\", input_dim=input_dim))\n",
        "    model.add(Dense(64, activation=\"relu\"))\n",
        "    model.add(Dense(1, activation=\"sigmoid\"))\n",
        "    return model\n",
        "\n",
        "input_dim = 100\n",
        "generator = create_generator(input_dim)"
      ],
      "metadata": {
        "id": "Lqh2XoMNFDv6"
      },
      "execution_count": 12,
      "outputs": []
    },
    {
      "cell_type": "code",
      "source": [
        "# Create discriminator model\n",
        "def create_discriminator():\n",
        "    model = Sequential()\n",
        "    model.add(Dense(64, activation=\"relu\", input_dim=1))\n",
        "    model.add(Dense(32, activation=\"relu\"))\n",
        "    model.add(Dense(1, activation=\"sigmoid\"))\n",
        "    return model\n",
        "\n",
        "discriminator = create_discriminator()"
      ],
      "metadata": {
        "id": "-ubemmIqFTls"
      },
      "execution_count": 13,
      "outputs": []
    },
    {
      "cell_type": "code",
      "source": [
        "# Define custom learning rates for generator and discriminator\n",
        "generator_optimizer = tf.keras.optimizers.Adam(learning_rate=0.0001)\n",
        "discriminator_optimizer = tf.keras.optimizers.Adam(learning_rate=0.0003)\n",
        "\n",
        "# Define custom binary cross entropy loss function\n",
        "loss_fcn = tf.keras.losses.BinaryCrossentropy(from_logits=False)\n",
        "#loss_fcn = tf.keras.losses.MeanSquaredError()"
      ],
      "metadata": {
        "id": "EFvqXAcaFY1j"
      },
      "execution_count": 14,
      "outputs": []
    },
    {
      "cell_type": "code",
      "source": [
        "# Custom training function for GAN using GradientTape\n",
        "@tf.function\n",
        "def train_step(real_ages):\n",
        "    batch_size = real_ages.shape[0]\n",
        "    \n",
        "    # Train discriminator\n",
        "    noise = tf.random.normal([batch_size, input_dim]) # create a noise vector as generator input sampled from Gaussian Random Normal\n",
        "    generated_ages = generator(noise, training=True)\n",
        "    \n",
        "    real_labels = tf.ones((batch_size, 1)) # the original data is real, labeled with 1\n",
        "    fake_labels = tf.zeros((batch_size, 1))  # the forged data is fake, labeled with 0\n",
        "\n",
        "    with tf.GradientTape() as tape:\n",
        "        real_output = discriminator(real_ages, training=True) \n",
        "        fake_output = discriminator(generated_ages, training=True) # see if the discriminator detects them\n",
        "        \n",
        "        d_loss_real = loss_fcn(real_labels, real_output)  # calculate the loss function \n",
        "        d_loss_fake = loss_fcn(fake_labels, fake_output)\n",
        "        d_loss = d_loss_real + d_loss_fake\n",
        "    \n",
        "    # apply the backward path and update weights\n",
        "    discriminator_gradients = tape.gradient(d_loss, discriminator.trainable_variables)\n",
        "    discriminator_optimizer.apply_gradients(zip(discriminator_gradients, discriminator.trainable_variables))\n",
        "\n",
        "    # Train generator\n",
        "    noise = tf.random.normal([batch_size, input_dim])\n",
        "    \n",
        "    with tf.GradientTape() as gen_tape:\n",
        "        generated_ages = generator(noise, training=True)\n",
        "        fake_output = discriminator(generated_ages, training=False)\n",
        "        \n",
        "        g_loss = loss_fcn(real_labels, fake_output)\n",
        "\n",
        "    generator_gradients = gen_tape.gradient(g_loss, generator.trainable_variables)\n",
        "    generator_optimizer.apply_gradients(zip(generator_gradients, generator.trainable_variables))\n",
        "\n",
        "    return d_loss, g_loss # return the loss for visualization"
      ],
      "metadata": {
        "id": "06Vpygt7Fz32"
      },
      "execution_count": 15,
      "outputs": []
    },
    {
      "cell_type": "markdown",
      "source": [
        "---\n",
        "## **Model Training**\n",
        "---"
      ],
      "metadata": {
        "id": "xwc63Uq_jhwV"
      }
    },
    {
      "cell_type": "code",
      "source": [
        "# Train the GAN\n",
        "def train_gan(epochs, batch_size,kl_threshold):\n",
        "    for epoch in range(epochs):\n",
        "        indices = np.random.randint(0, len(ages_normalized), batch_size)\n",
        "        real_ages = ages_normalized[indices]\n",
        "        real_ages = tf.constant(real_ages, dtype=tf.float32)\n",
        "\n",
        "        d_loss, g_loss = train_step(real_ages)\n",
        "        if epoch % 10 == 0:\n",
        "            # Generate fake ages\n",
        "            noise = tf.random.normal([len(ages_normalized), input_dim])\n",
        "            generated_ages = generator(noise, training=False).numpy().flatten()\n",
        "\n",
        "            # Calculate KL divergence\n",
        "            real_hist, _ = np.histogram(ages_normalized, bins=100, density=True)\n",
        "            gen_hist, _ = np.histogram(generated_ages, bins=100, density=True)\n",
        "            real_hist += 1e-8  # Add small value to avoid division by zero\n",
        "            gen_hist += 1e-8\n",
        "            kl_divergence = entropy(real_hist, gen_hist)\n",
        "            \n",
        "            # log the performance\n",
        "            print(f\"Epoch: {epoch}, D loss: {d_loss}, G loss: {g_loss}, KL divergence: {kl_divergence}\")\n",
        "\n",
        "            # Check if KL divergence is below the threshold\n",
        "            if kl_divergence <= kl_threshold:\n",
        "                print(\"Reached KL divergence threshold. Stopping training.\")\n",
        "                break\n",
        "\n",
        "epochs = 5000\n",
        "batch_size = 128\n",
        "kl_threshold = 0.4\n",
        "train_gan(epochs,batch_size,kl_threshold)"
      ],
      "metadata": {
        "colab": {
          "base_uri": "https://localhost:8080/"
        },
        "id": "j0SUl-7NEEpG",
        "outputId": "0b4ecd02-889b-4650-bfa9-d1229bbdea2b"
      },
      "execution_count": 16,
      "outputs": [
        {
          "output_type": "stream",
          "name": "stdout",
          "text": [
            "Epoch: 0, D loss: 1.3839311599731445, G loss: 0.681047797203064, KL divergence: 0.9289282761816939\n",
            "Epoch: 10, D loss: 1.3840789794921875, G loss: 0.6716339588165283, KL divergence: 1.6685518133505088\n",
            "Epoch: 20, D loss: 1.3862744569778442, G loss: 0.6726314425468445, KL divergence: 0.7804587188802974\n",
            "Epoch: 30, D loss: 1.3892474174499512, G loss: 0.6897519826889038, KL divergence: 1.311250004993329\n",
            "Epoch: 40, D loss: 1.3886499404907227, G loss: 0.7159241437911987, KL divergence: 0.8028047513185802\n",
            "Epoch: 50, D loss: 1.386566400527954, G loss: 0.7376675605773926, KL divergence: 1.309547013377543\n",
            "Epoch: 60, D loss: 1.381450891494751, G loss: 0.7518086433410645, KL divergence: 0.8684702022312498\n",
            "Epoch: 70, D loss: 1.379443645477295, G loss: 0.7538518905639648, KL divergence: 1.3716182709051319\n",
            "Epoch: 80, D loss: 1.3846962451934814, G loss: 0.7398927211761475, KL divergence: 0.9389243106083148\n",
            "Epoch: 90, D loss: 1.391345739364624, G loss: 0.7087958455085754, KL divergence: 2.0064762125299915\n",
            "Epoch: 100, D loss: 1.3922208547592163, G loss: 0.6718409061431885, KL divergence: 0.9853200586069478\n",
            "Epoch: 110, D loss: 1.3853669166564941, G loss: 0.6473392248153687, KL divergence: 1.2021598880082567\n",
            "Epoch: 120, D loss: 1.3778307437896729, G loss: 0.6338527202606201, KL divergence: 2.1952719864196553\n",
            "Epoch: 130, D loss: 1.3801491260528564, G loss: 0.6229584813117981, KL divergence: 1.9015197805593365\n",
            "Epoch: 140, D loss: 1.39076566696167, G loss: 0.624903678894043, KL divergence: 1.0906054564209866\n",
            "Epoch: 150, D loss: 1.3947153091430664, G loss: 0.6486786603927612, KL divergence: 0.905645582217098\n",
            "Epoch: 160, D loss: 1.3909573554992676, G loss: 0.6851260662078857, KL divergence: 0.8585987649017351\n",
            "Epoch: 170, D loss: 1.3872125148773193, G loss: 0.7165541648864746, KL divergence: 1.4209191670470285\n",
            "Epoch: 180, D loss: 1.381208896636963, G loss: 0.7449912428855896, KL divergence: 1.8473735253786898\n",
            "Epoch: 190, D loss: 1.379034161567688, G loss: 0.7641602754592896, KL divergence: 2.1069244938069875\n",
            "Epoch: 200, D loss: 1.3779733180999756, G loss: 0.7643129229545593, KL divergence: 0.7123756450080883\n",
            "Epoch: 210, D loss: 1.3745784759521484, G loss: 0.7555464506149292, KL divergence: 1.2120475454378608\n",
            "Epoch: 220, D loss: 1.3813860416412354, G loss: 0.7406075596809387, KL divergence: 1.1134917988366446\n",
            "Epoch: 230, D loss: 1.3898388147354126, G loss: 0.7193198800086975, KL divergence: 1.5760060419557818\n",
            "Epoch: 240, D loss: 1.3961031436920166, G loss: 0.690597653388977, KL divergence: 2.069964513756803\n",
            "Epoch: 250, D loss: 1.3914835453033447, G loss: 0.6726912260055542, KL divergence: 1.2776896009935512\n",
            "Epoch: 260, D loss: 1.3809099197387695, G loss: 0.6587679982185364, KL divergence: 2.341858706261818\n",
            "Epoch: 270, D loss: 1.3704445362091064, G loss: 0.6462704539299011, KL divergence: 2.048639463738905\n",
            "Epoch: 280, D loss: 1.369642972946167, G loss: 0.6373364925384521, KL divergence: 1.0816797556402853\n",
            "Epoch: 290, D loss: 1.3734757900238037, G loss: 0.623316764831543, KL divergence: 1.7827215535285093\n",
            "Epoch: 300, D loss: 1.3843176364898682, G loss: 0.618537425994873, KL divergence: 1.62446848511337\n",
            "Epoch: 310, D loss: 1.390967845916748, G loss: 0.6198770999908447, KL divergence: 0.9529133683271676\n",
            "Epoch: 320, D loss: 1.4027884006500244, G loss: 0.63802570104599, KL divergence: 1.287568838007273\n",
            "Epoch: 330, D loss: 1.3998218774795532, G loss: 0.6605384349822998, KL divergence: 1.9441668477010072\n",
            "Epoch: 340, D loss: 1.401003122329712, G loss: 0.6846042275428772, KL divergence: 0.754777237985868\n",
            "Epoch: 350, D loss: 1.395054817199707, G loss: 0.7077590823173523, KL divergence: 1.606466939981735\n",
            "Epoch: 360, D loss: 1.3913025856018066, G loss: 0.7272920608520508, KL divergence: 1.8666728784587165\n",
            "Epoch: 370, D loss: 1.385536551475525, G loss: 0.7402489185333252, KL divergence: 1.010780229486704\n",
            "Epoch: 380, D loss: 1.3803129196166992, G loss: 0.7549296617507935, KL divergence: 3.1127547869909344\n",
            "Epoch: 390, D loss: 1.3775780200958252, G loss: 0.7663265466690063, KL divergence: 2.1349807276198134\n",
            "Epoch: 400, D loss: 1.3762445449829102, G loss: 0.7716975212097168, KL divergence: 2.9149899026845256\n",
            "Epoch: 410, D loss: 1.3718189001083374, G loss: 0.7763645052909851, KL divergence: 1.1563833823500738\n",
            "Epoch: 420, D loss: 1.3710256814956665, G loss: 0.7699153423309326, KL divergence: 1.1402837825127092\n",
            "Epoch: 430, D loss: 1.375659465789795, G loss: 0.7670408487319946, KL divergence: 1.1688134214316694\n",
            "Epoch: 440, D loss: 1.373178482055664, G loss: 0.7551966905593872, KL divergence: 0.9031243766577685\n",
            "Epoch: 450, D loss: 1.3827180862426758, G loss: 0.7411734461784363, KL divergence: 0.8694751510454926\n",
            "Epoch: 460, D loss: 1.3925665616989136, G loss: 0.7234304547309875, KL divergence: 0.9122995046788906\n",
            "Epoch: 470, D loss: 1.4032807350158691, G loss: 0.7040965557098389, KL divergence: 1.478389760934075\n",
            "Epoch: 480, D loss: 1.4034982919692993, G loss: 0.6880112886428833, KL divergence: 1.4860765859667764\n",
            "Epoch: 490, D loss: 1.3964173793792725, G loss: 0.6741182804107666, KL divergence: 3.037476245523285\n",
            "Epoch: 500, D loss: 1.3783456087112427, G loss: 0.6692513227462769, KL divergence: 2.027734661938712\n",
            "Epoch: 510, D loss: 1.36122465133667, G loss: 0.6667071580886841, KL divergence: 2.178535369981616\n",
            "Epoch: 520, D loss: 1.3549094200134277, G loss: 0.6625875234603882, KL divergence: 1.304763703659447\n",
            "Epoch: 530, D loss: 1.3562037944793701, G loss: 0.6572202444076538, KL divergence: 2.1591397580396623\n",
            "Epoch: 540, D loss: 1.3623969554901123, G loss: 0.6445919275283813, KL divergence: 0.875267632235941\n",
            "Epoch: 550, D loss: 1.3774394989013672, G loss: 0.6396986246109009, KL divergence: 0.8584025467496709\n",
            "Epoch: 560, D loss: 1.3961126804351807, G loss: 0.6344822645187378, KL divergence: 0.89795965577736\n",
            "Epoch: 570, D loss: 1.3994109630584717, G loss: 0.6465815305709839, KL divergence: 1.626985873722244\n",
            "Epoch: 580, D loss: 1.401796579360962, G loss: 0.6629762053489685, KL divergence: 0.7916513348628439\n",
            "Epoch: 590, D loss: 1.4008005857467651, G loss: 0.6873952150344849, KL divergence: 1.8648159633292543\n",
            "Epoch: 600, D loss: 1.3985055685043335, G loss: 0.711668848991394, KL divergence: 0.9565853864697526\n",
            "Epoch: 610, D loss: 1.3924028873443604, G loss: 0.7355238199234009, KL divergence: 1.4195524734013871\n",
            "Epoch: 620, D loss: 1.3890454769134521, G loss: 0.7563233971595764, KL divergence: 2.337273457206899\n",
            "Epoch: 630, D loss: 1.3835827112197876, G loss: 0.7722780704498291, KL divergence: 1.4383830066409287\n",
            "Epoch: 640, D loss: 1.3739092350006104, G loss: 0.7737188339233398, KL divergence: 1.396552024362834\n",
            "Epoch: 650, D loss: 1.3741958141326904, G loss: 0.7830114364624023, KL divergence: 1.0028660073207432\n",
            "Epoch: 660, D loss: 1.369920253753662, G loss: 0.7909197211265564, KL divergence: 1.255108541015166\n",
            "Epoch: 670, D loss: 1.3669663667678833, G loss: 0.7943606972694397, KL divergence: 1.3199516689688227\n",
            "Epoch: 680, D loss: 1.3724400997161865, G loss: 0.7857800722122192, KL divergence: 1.0574658287817935\n",
            "Epoch: 690, D loss: 1.3746227025985718, G loss: 0.7694034576416016, KL divergence: 0.782772518519041\n",
            "Epoch: 700, D loss: 1.3886072635650635, G loss: 0.7451786994934082, KL divergence: 0.7522857553338067\n",
            "Epoch: 710, D loss: 1.3978602886199951, G loss: 0.7119966745376587, KL divergence: 1.8190520359038482\n",
            "Epoch: 720, D loss: 1.408879041671753, G loss: 0.6796303391456604, KL divergence: 1.3907578539627996\n",
            "Epoch: 730, D loss: 1.4134312868118286, G loss: 0.6568429470062256, KL divergence: 2.2045632951819982\n",
            "Epoch: 740, D loss: 1.3998427391052246, G loss: 0.6402379274368286, KL divergence: 2.0738797333760877\n",
            "Epoch: 750, D loss: 1.387990951538086, G loss: 0.6325746178627014, KL divergence: 2.8905476998887965\n",
            "Epoch: 760, D loss: 1.376772165298462, G loss: 0.6274447441101074, KL divergence: 2.2070505638558777\n",
            "Epoch: 770, D loss: 1.3690927028656006, G loss: 0.6237223148345947, KL divergence: 3.197951637001033\n",
            "Epoch: 780, D loss: 1.3679176568984985, G loss: 0.6150198578834534, KL divergence: 1.9491992904549515\n",
            "Epoch: 790, D loss: 1.3764569759368896, G loss: 0.6139561533927917, KL divergence: 1.99831217718854\n",
            "Epoch: 800, D loss: 1.3814663887023926, G loss: 0.6124887466430664, KL divergence: 1.6636745949622205\n",
            "Epoch: 810, D loss: 1.3889564275741577, G loss: 0.6168094873428345, KL divergence: 1.9417680035403573\n",
            "Epoch: 820, D loss: 1.3936781883239746, G loss: 0.6238700151443481, KL divergence: 1.1632910797939813\n",
            "Epoch: 830, D loss: 1.3956630229949951, G loss: 0.6391350626945496, KL divergence: 0.7792785572690502\n",
            "Epoch: 840, D loss: 1.3986384868621826, G loss: 0.6583278179168701, KL divergence: 0.5930084898042249\n",
            "Epoch: 850, D loss: 1.3963932991027832, G loss: 0.6755828857421875, KL divergence: 0.7146543092224762\n",
            "Epoch: 860, D loss: 1.3957515954971313, G loss: 0.694200873374939, KL divergence: 0.9394949286072299\n",
            "Epoch: 870, D loss: 1.3916500806808472, G loss: 0.7088204622268677, KL divergence: 2.0653346392845315\n",
            "Epoch: 880, D loss: 1.3880997896194458, G loss: 0.7232451438903809, KL divergence: 0.9276694271962338\n",
            "Epoch: 890, D loss: 1.3858271837234497, G loss: 0.7329076528549194, KL divergence: 1.382833045407479\n",
            "Epoch: 900, D loss: 1.3837859630584717, G loss: 0.7392909526824951, KL divergence: 1.610120510484516\n",
            "Epoch: 910, D loss: 1.3823940753936768, G loss: 0.7444273233413696, KL divergence: 1.5342374851786693\n",
            "Epoch: 920, D loss: 1.3794212341308594, G loss: 0.7487562894821167, KL divergence: 1.0180770800199281\n",
            "Epoch: 930, D loss: 1.381110668182373, G loss: 0.750996470451355, KL divergence: 1.5827203679729687\n",
            "Epoch: 940, D loss: 1.3779559135437012, G loss: 0.7528284788131714, KL divergence: 1.1059753450627106\n",
            "Epoch: 950, D loss: 1.3809772729873657, G loss: 0.752051830291748, KL divergence: 1.6830133806925103\n",
            "Epoch: 960, D loss: 1.3779430389404297, G loss: 0.7511154413223267, KL divergence: 1.0919643925170588\n",
            "Epoch: 970, D loss: 1.3737876415252686, G loss: 0.7457571029663086, KL divergence: 0.6720879967638398\n",
            "Epoch: 980, D loss: 1.3793586492538452, G loss: 0.7415523529052734, KL divergence: 0.829871133284277\n",
            "Epoch: 990, D loss: 1.3829023838043213, G loss: 0.7355865836143494, KL divergence: 0.7787290841982617\n",
            "Epoch: 1000, D loss: 1.3895318508148193, G loss: 0.7259697914123535, KL divergence: 0.9536992515580072\n",
            "Epoch: 1010, D loss: 1.3904237747192383, G loss: 0.7152143716812134, KL divergence: 0.7336595624202151\n",
            "Epoch: 1020, D loss: 1.39741051197052, G loss: 0.7051601409912109, KL divergence: 0.8564087913501093\n",
            "Epoch: 1030, D loss: 1.3953723907470703, G loss: 0.6919972896575928, KL divergence: 1.0043328977814447\n",
            "Epoch: 1040, D loss: 1.4004120826721191, G loss: 0.6844774484634399, KL divergence: 1.1320635235049124\n",
            "Epoch: 1050, D loss: 1.3961083889007568, G loss: 0.6767052412033081, KL divergence: 1.8387039699108247\n",
            "Epoch: 1060, D loss: 1.3879344463348389, G loss: 0.6714170575141907, KL divergence: 2.2732706296221847\n",
            "Epoch: 1070, D loss: 1.3811619281768799, G loss: 0.6658799648284912, KL divergence: 2.2748685585932993\n",
            "Epoch: 1080, D loss: 1.3718163967132568, G loss: 0.6617112159729004, KL divergence: 2.942262565328775\n",
            "Epoch: 1090, D loss: 1.3678075075149536, G loss: 0.6545063257217407, KL divergence: 1.2847980121360132\n",
            "Epoch: 1100, D loss: 1.3633077144622803, G loss: 0.6423200964927673, KL divergence: 2.024826402877088\n",
            "Epoch: 1110, D loss: 1.3653408288955688, G loss: 0.6342154741287231, KL divergence: 1.5519375729324818\n",
            "Epoch: 1120, D loss: 1.3706839084625244, G loss: 0.626960039138794, KL divergence: 1.548458444703505\n",
            "Epoch: 1130, D loss: 1.390207052230835, G loss: 0.6186622977256775, KL divergence: 0.8511868022636233\n",
            "Epoch: 1140, D loss: 1.4012333154678345, G loss: 0.6224082708358765, KL divergence: 0.7910346161909104\n",
            "Epoch: 1150, D loss: 1.4033210277557373, G loss: 0.6320160627365112, KL divergence: 0.8398801186379468\n",
            "Epoch: 1160, D loss: 1.4026793241500854, G loss: 0.6487642526626587, KL divergence: 0.9004218864074398\n",
            "Epoch: 1170, D loss: 1.402235507965088, G loss: 0.6695811152458191, KL divergence: 1.3318696648915613\n",
            "Epoch: 1180, D loss: 1.398539662361145, G loss: 0.6844437122344971, KL divergence: 1.9155651181588633\n",
            "Epoch: 1190, D loss: 1.3942644596099854, G loss: 0.6965932846069336, KL divergence: 1.363200145004998\n",
            "Epoch: 1200, D loss: 1.3898248672485352, G loss: 0.7075338363647461, KL divergence: 1.9078404966489972\n",
            "Epoch: 1210, D loss: 1.3842997550964355, G loss: 0.715604305267334, KL divergence: 2.1648459879483104\n",
            "Epoch: 1220, D loss: 1.3759160041809082, G loss: 0.72711181640625, KL divergence: 2.0175825288954004\n",
            "Epoch: 1230, D loss: 1.37534499168396, G loss: 0.7300010919570923, KL divergence: 1.974296557020127\n",
            "Epoch: 1240, D loss: 1.3671694993972778, G loss: 0.7352383136749268, KL divergence: 1.8984528338155433\n",
            "Epoch: 1250, D loss: 1.3665308952331543, G loss: 0.7386044859886169, KL divergence: 1.4529488538535864\n",
            "Epoch: 1260, D loss: 1.364833116531372, G loss: 0.7425545454025269, KL divergence: 0.9197527130108752\n",
            "Epoch: 1270, D loss: 1.3716007471084595, G loss: 0.7479397058486938, KL divergence: 1.0116396088988038\n",
            "Epoch: 1280, D loss: 1.3679136037826538, G loss: 0.7497404217720032, KL divergence: 0.6387118032967847\n",
            "Epoch: 1290, D loss: 1.361414909362793, G loss: 0.7438740730285645, KL divergence: 1.6083236537323968\n",
            "Epoch: 1300, D loss: 1.3764704465866089, G loss: 0.7381577491760254, KL divergence: 1.3632703036498244\n",
            "Epoch: 1310, D loss: 1.3877726793289185, G loss: 0.7305012345314026, KL divergence: 1.592160086271686\n",
            "Epoch: 1320, D loss: 1.3917890787124634, G loss: 0.7237484455108643, KL divergence: 1.0458080876482014\n",
            "Epoch: 1330, D loss: 1.4012117385864258, G loss: 0.7167894840240479, KL divergence: 1.0705177888022959\n",
            "Epoch: 1340, D loss: 1.4038021564483643, G loss: 0.7041563987731934, KL divergence: 2.304305263912047\n",
            "Epoch: 1350, D loss: 1.395693302154541, G loss: 0.6957256197929382, KL divergence: 3.2016633909808325\n",
            "Epoch: 1360, D loss: 1.380416989326477, G loss: 0.6902822256088257, KL divergence: 3.476032579523326\n",
            "Epoch: 1370, D loss: 1.3666391372680664, G loss: 0.6862202286720276, KL divergence: 1.8469199128728642\n",
            "Epoch: 1380, D loss: 1.3497499227523804, G loss: 0.683452308177948, KL divergence: 3.554291667173359\n",
            "Epoch: 1390, D loss: 1.3372753858566284, G loss: 0.6717007756233215, KL divergence: 1.9735951818191617\n",
            "Epoch: 1400, D loss: 1.3338584899902344, G loss: 0.6586436033248901, KL divergence: 1.1929679000902367\n",
            "Epoch: 1410, D loss: 1.3431074619293213, G loss: 0.6342763304710388, KL divergence: 1.658200188738047\n",
            "Epoch: 1420, D loss: 1.3747282028198242, G loss: 0.6181542277336121, KL divergence: 0.6561902159283682\n",
            "Epoch: 1430, D loss: 1.3787901401519775, G loss: 0.6123892068862915, KL divergence: 0.994668435548567\n",
            "Epoch: 1440, D loss: 1.3981751203536987, G loss: 0.6148934364318848, KL divergence: 1.069607665243504\n",
            "Epoch: 1450, D loss: 1.4194809198379517, G loss: 0.6342024803161621, KL divergence: 0.6825980662822202\n",
            "Epoch: 1460, D loss: 1.4235013723373413, G loss: 0.6616714000701904, KL divergence: 1.952728422888644\n",
            "Epoch: 1470, D loss: 1.415183424949646, G loss: 0.6871979832649231, KL divergence: 1.5017773688404736\n",
            "Epoch: 1480, D loss: 1.4124224185943604, G loss: 0.7120708227157593, KL divergence: 1.163322905625538\n",
            "Epoch: 1490, D loss: 1.4021905660629272, G loss: 0.7330830097198486, KL divergence: 1.8555878083848367\n",
            "Epoch: 1500, D loss: 1.3954793214797974, G loss: 0.7544617652893066, KL divergence: 2.4985544393489305\n",
            "Epoch: 1510, D loss: 1.3884670734405518, G loss: 0.7710106372833252, KL divergence: 2.4678892409646846\n",
            "Epoch: 1520, D loss: 1.38210129737854, G loss: 0.784483790397644, KL divergence: 2.364880719426479\n",
            "Epoch: 1530, D loss: 1.3768155574798584, G loss: 0.7893320322036743, KL divergence: 1.76023472957828\n",
            "Epoch: 1540, D loss: 1.3728699684143066, G loss: 0.791563868522644, KL divergence: 2.7336443629019707\n",
            "Epoch: 1550, D loss: 1.3673479557037354, G loss: 0.7934201955795288, KL divergence: 1.9211588021495019\n",
            "Epoch: 1560, D loss: 1.364150047302246, G loss: 0.7945650815963745, KL divergence: 1.7129531986222795\n",
            "Epoch: 1570, D loss: 1.3617777824401855, G loss: 0.7931840419769287, KL divergence: 2.7977613978566476\n",
            "Epoch: 1580, D loss: 1.3606873750686646, G loss: 0.7945866584777832, KL divergence: 1.3029305276314975\n",
            "Epoch: 1590, D loss: 1.3571213483810425, G loss: 0.7885663509368896, KL divergence: 1.2838131534614454\n",
            "Epoch: 1600, D loss: 1.3474249839782715, G loss: 0.7781867384910583, KL divergence: 0.5781137041782893\n",
            "Epoch: 1610, D loss: 1.3616664409637451, G loss: 0.7653200626373291, KL divergence: 1.1964260989112783\n",
            "Epoch: 1620, D loss: 1.3641483783721924, G loss: 0.7535853385925293, KL divergence: 0.7406972130675344\n",
            "Epoch: 1630, D loss: 1.391588568687439, G loss: 0.7385071516036987, KL divergence: 0.6385103370531386\n",
            "Epoch: 1640, D loss: 1.40032160282135, G loss: 0.7159724235534668, KL divergence: 0.6085564651412285\n",
            "Epoch: 1650, D loss: 1.4169865846633911, G loss: 0.6900500059127808, KL divergence: 0.7937625537009217\n",
            "Epoch: 1660, D loss: 1.4273738861083984, G loss: 0.6691856384277344, KL divergence: 1.0869959109399643\n",
            "Epoch: 1670, D loss: 1.422653079032898, G loss: 0.65049147605896, KL divergence: 1.0009880717201693\n",
            "Epoch: 1680, D loss: 1.4094202518463135, G loss: 0.6455239653587341, KL divergence: 1.860452150379102\n",
            "Epoch: 1690, D loss: 1.3977147340774536, G loss: 0.6463490724563599, KL divergence: 2.006648279803684\n",
            "Epoch: 1700, D loss: 1.3863356113433838, G loss: 0.6473445892333984, KL divergence: 2.2602519296515484\n",
            "Epoch: 1710, D loss: 1.3800568580627441, G loss: 0.6465847492218018, KL divergence: 1.1056174643912968\n",
            "Epoch: 1720, D loss: 1.3706550598144531, G loss: 0.6494086384773254, KL divergence: 1.6477186637640997\n",
            "Epoch: 1730, D loss: 1.368405818939209, G loss: 0.6473087072372437, KL divergence: 1.086277394336556\n",
            "Epoch: 1740, D loss: 1.3702210187911987, G loss: 0.6480989456176758, KL divergence: 0.9437194441157203\n",
            "Epoch: 1750, D loss: 1.361898422241211, G loss: 0.641020655632019, KL divergence: 1.1479468506952184\n",
            "Epoch: 1760, D loss: 1.3644628524780273, G loss: 0.639900803565979, KL divergence: 0.9872086399189639\n",
            "Epoch: 1770, D loss: 1.3732373714447021, G loss: 0.6380603313446045, KL divergence: 1.7233627325312482\n",
            "Epoch: 1780, D loss: 1.377866506576538, G loss: 0.6306439638137817, KL divergence: 0.812334981586018\n",
            "Epoch: 1790, D loss: 1.3758835792541504, G loss: 0.6420542597770691, KL divergence: 1.4254067588734083\n",
            "Epoch: 1800, D loss: 1.389497995376587, G loss: 0.6493828296661377, KL divergence: 1.6525108473261396\n",
            "Epoch: 1810, D loss: 1.390434741973877, G loss: 0.6573234796524048, KL divergence: 0.5282541630722102\n",
            "Epoch: 1820, D loss: 1.3952898979187012, G loss: 0.6671674847602844, KL divergence: 0.5578584416852244\n",
            "Epoch: 1830, D loss: 1.3941607475280762, G loss: 0.6759217977523804, KL divergence: 0.6533469821597555\n",
            "Epoch: 1840, D loss: 1.4007699489593506, G loss: 0.6883289813995361, KL divergence: 0.8779271089197752\n",
            "Epoch: 1850, D loss: 1.3986177444458008, G loss: 0.6947937607765198, KL divergence: 0.949317355838846\n",
            "Epoch: 1860, D loss: 1.3966739177703857, G loss: 0.7026439905166626, KL divergence: 0.8348101319240231\n",
            "Epoch: 1870, D loss: 1.3948484659194946, G loss: 0.710078239440918, KL divergence: 0.7890981867404986\n",
            "Epoch: 1880, D loss: 1.394794225692749, G loss: 0.7173025608062744, KL divergence: 0.8881700669124868\n",
            "Epoch: 1890, D loss: 1.3912805318832397, G loss: 0.7230649590492249, KL divergence: 1.8018784871808484\n",
            "Epoch: 1900, D loss: 1.3889508247375488, G loss: 0.7269362211227417, KL divergence: 1.5046472026083357\n",
            "Epoch: 1910, D loss: 1.387535810470581, G loss: 0.7308371663093567, KL divergence: 0.8155110289554474\n",
            "Epoch: 1920, D loss: 1.3846756219863892, G loss: 0.7343863248825073, KL divergence: 1.3102967354352766\n",
            "Epoch: 1930, D loss: 1.3835805654525757, G loss: 0.7372536063194275, KL divergence: 1.630856307249497\n",
            "Epoch: 1940, D loss: 1.3822144269943237, G loss: 0.7394119501113892, KL divergence: 1.1509302507916102\n",
            "Epoch: 1950, D loss: 1.373671531677246, G loss: 0.7411494255065918, KL divergence: 1.1163866567342215\n",
            "Epoch: 1960, D loss: 1.3730716705322266, G loss: 0.7367666363716125, KL divergence: 0.8105742918779155\n",
            "Epoch: 1970, D loss: 1.3677332401275635, G loss: 0.7358927726745605, KL divergence: 0.9096500014404161\n",
            "Epoch: 1980, D loss: 1.368478536605835, G loss: 0.7346422672271729, KL divergence: 0.9972066718238057\n",
            "Epoch: 1990, D loss: 1.3635387420654297, G loss: 0.7329053282737732, KL divergence: 1.1281019495595022\n",
            "Epoch: 2000, D loss: 1.3657143115997314, G loss: 0.7328957319259644, KL divergence: 0.503385574314385\n",
            "Epoch: 2010, D loss: 1.3719979524612427, G loss: 0.7254186272621155, KL divergence: 0.5892926884905199\n",
            "Epoch: 2020, D loss: 1.3745429515838623, G loss: 0.7201459407806396, KL divergence: 0.7145324369975686\n",
            "Epoch: 2030, D loss: 1.3845295906066895, G loss: 0.7166036367416382, KL divergence: 0.6797478328179565\n",
            "Epoch: 2040, D loss: 1.3868839740753174, G loss: 0.7101433873176575, KL divergence: 0.823898649295563\n",
            "Epoch: 2050, D loss: 1.3883843421936035, G loss: 0.7072229385375977, KL divergence: 0.7253279381938946\n",
            "Epoch: 2060, D loss: 1.4016767740249634, G loss: 0.7060796022415161, KL divergence: 0.7169509199029896\n",
            "Epoch: 2070, D loss: 1.3892743587493896, G loss: 0.6986172199249268, KL divergence: 0.8037755491325487\n",
            "Epoch: 2080, D loss: 1.3868632316589355, G loss: 0.6939733624458313, KL divergence: 0.8845824577087744\n",
            "Epoch: 2090, D loss: 1.377389669418335, G loss: 0.6837030053138733, KL divergence: 0.8538417300351202\n",
            "Epoch: 2100, D loss: 1.3704442977905273, G loss: 0.6758149862289429, KL divergence: 0.8961698076911709\n",
            "Epoch: 2110, D loss: 1.3668365478515625, G loss: 0.6682484149932861, KL divergence: 0.8137282167925063\n",
            "Epoch: 2120, D loss: 1.365260362625122, G loss: 0.6647384166717529, KL divergence: 0.6948374645496256\n",
            "Epoch: 2130, D loss: 1.3715600967407227, G loss: 0.6573630571365356, KL divergence: 0.7182708635703529\n",
            "Epoch: 2140, D loss: 1.3651928901672363, G loss: 0.6493399143218994, KL divergence: 0.6189294373830173\n",
            "Epoch: 2150, D loss: 1.3721104860305786, G loss: 0.649336576461792, KL divergence: 0.4944702239188367\n",
            "Epoch: 2160, D loss: 1.3793432712554932, G loss: 0.6467766761779785, KL divergence: 0.45333606147143857\n",
            "Epoch: 2170, D loss: 1.3823051452636719, G loss: 0.6483641862869263, KL divergence: 0.6354974151274022\n",
            "Epoch: 2180, D loss: 1.3985874652862549, G loss: 0.6596944332122803, KL divergence: 0.8895759102203872\n",
            "Epoch: 2190, D loss: 1.399461030960083, G loss: 0.6590086221694946, KL divergence: 0.6411848095232223\n",
            "Epoch: 2200, D loss: 1.3997606039047241, G loss: 0.6788834929466248, KL divergence: 0.9552395358574101\n",
            "Epoch: 2210, D loss: 1.40175461769104, G loss: 0.6950048208236694, KL divergence: 0.7111047160649481\n",
            "Epoch: 2220, D loss: 1.4024131298065186, G loss: 0.7056138515472412, KL divergence: 1.0945107481792609\n",
            "Epoch: 2230, D loss: 1.3963106870651245, G loss: 0.7210326790809631, KL divergence: 1.4527487967424866\n",
            "Epoch: 2240, D loss: 1.3981602191925049, G loss: 0.7283485531806946, KL divergence: 1.3809055496382785\n",
            "Epoch: 2250, D loss: 1.3934612274169922, G loss: 0.7399519681930542, KL divergence: 1.193480108497103\n",
            "Epoch: 2260, D loss: 1.3866333961486816, G loss: 0.7499780654907227, KL divergence: 0.8775155180507583\n",
            "Epoch: 2270, D loss: 1.380608320236206, G loss: 0.7581590414047241, KL divergence: 1.200386930233695\n",
            "Epoch: 2280, D loss: 1.3744932413101196, G loss: 0.7578263282775879, KL divergence: 1.5098931147317265\n",
            "Epoch: 2290, D loss: 1.3752720355987549, G loss: 0.7563681602478027, KL divergence: 1.1966352666496523\n",
            "Epoch: 2300, D loss: 1.3696541786193848, G loss: 0.7549600601196289, KL divergence: 0.8679602463940493\n",
            "Epoch: 2310, D loss: 1.365983009338379, G loss: 0.7517753839492798, KL divergence: 0.7963107723582066\n",
            "Epoch: 2320, D loss: 1.365373134613037, G loss: 0.7474767565727234, KL divergence: 1.021359866525245\n",
            "Epoch: 2330, D loss: 1.3692272901535034, G loss: 0.7365049123764038, KL divergence: 0.9658537753163488\n",
            "Epoch: 2340, D loss: 1.3555128574371338, G loss: 0.7250949144363403, KL divergence: 0.7328872554210893\n",
            "Epoch: 2350, D loss: 1.3637280464172363, G loss: 0.7155466675758362, KL divergence: 0.8084022488044147\n",
            "Epoch: 2360, D loss: 1.3728265762329102, G loss: 0.7006691694259644, KL divergence: 0.5051777566174401\n",
            "Epoch: 2370, D loss: 1.3825538158416748, G loss: 0.687463641166687, KL divergence: 0.3933513845826288\n",
            "Reached KL divergence threshold. Stopping training.\n"
          ]
        }
      ]
    },
    {
      "cell_type": "markdown",
      "source": [
        "---\n",
        "## **Model Performance**\n",
        "---"
      ],
      "metadata": {
        "id": "e1AoOfUdjl2W"
      }
    },
    {
      "cell_type": "code",
      "source": [
        "histogram_boxplot(pd.DataFrame(ages), 'age', figsize=(12, 7), kde=True, bins=None)"
      ],
      "metadata": {
        "colab": {
          "base_uri": "https://localhost:8080/",
          "height": 619
        },
        "id": "sLcmCoeTOszk",
        "outputId": "bf00dfd4-53ea-4503-a0f7-20cae57362cc"
      },
      "execution_count": 17,
      "outputs": [
        {
          "output_type": "display_data",
          "data": {
            "text/plain": [
              "<Figure size 1200x700 with 2 Axes>"
            ],
            "image/png": "[encoded data removed]"
          },
          "metadata": {}
        }
      ]
    },
    {
      "cell_type": "code",
      "source": [
        "# synthesize ages using the trained generator \n",
        "noise = tf.random.normal([len(ages_normalized), input_dim])\n",
        "generated_ages = generator(noise).numpy().flatten()* max_age\n",
        "histogram_boxplot(pd.DataFrame(generated_ages,columns=['ages']), 'ages', figsize=(12, 7), kde=True, bins=None)"
      ],
      "metadata": {
        "colab": {
          "base_uri": "https://localhost:8080/",
          "height": 619
        },
        "id": "LeFY96cgMExq",
        "outputId": "1ff8875c-7016-4b2d-d6d4-dc341baef2a7"
      },
      "execution_count": 18,
      "outputs": [
        {
          "output_type": "display_data",
          "data": {
            "text/plain": [
              "<Figure size 1200x700 with 2 Axes>"
            ],
            "image/png": "[encoded data removed]"
          },
          "metadata": {}
        }
      ]
    },
    {
      "cell_type": "markdown",
      "source": [
        "---\n",
        "## **Observations**\n",
        "---\n",
        "\n",
        "* The model was found to be highly unstable during the training process.  \n",
        "* The network was found to very sensitivite to the hyperparameters.\n",
        "* Difficult to tune the model to acheive satisfactory results.\n",
        "\n",
        "\n"
      ],
      "metadata": {
        "id": "nSuuP_8ykKHm"
      }
    },
    {
      "cell_type": "markdown",
      "source": [
        "---\n",
        "## **Convert notbook to HTML file**\n",
        "---"
      ],
      "metadata": {
        "id": "a1_wJgpblTEJ"
      }
    },
    {
      "cell_type": "code",
      "source": [
        "# access the google drive \n",
        "from google.colab import drive\n",
        "drive.mount('/content/drive')"
      ],
      "metadata": {
        "colab": {
          "base_uri": "https://localhost:8080/"
        },
        "id": "VI1y7ek2dKUb",
        "outputId": "14607a30-24a5-4df8-ffbd-995a25ee48c0"
      },
      "execution_count": 19,
      "outputs": [
        {
          "output_type": "stream",
          "name": "stdout",
          "text": [
            "Drive already mounted at /content/drive; to attempt to forcibly remount, call drive.mount(\"/content/drive\", force_remount=True).\n"
          ]
        }
      ]
    },
    {
      "cell_type": "code",
      "source": [
        "# convert to html\n",
        "%%shell\n",
        "jupyter nbconvert --to html ///content/drive/MyDrive/JLAB/GAN/testing/GAN.ipynb"
      ],
      "metadata": {
        "colab": {
          "base_uri": "https://localhost:8080/"
        },
        "id": "203Ti0gTNY_O",
        "outputId": "31b3abc9-e0a4-4cf4-85e5-8a3627b2ef64"
      },
      "execution_count": 21,
      "outputs": [
        {
          "output_type": "stream",
          "name": "stdout",
          "text": [
            "[NbConvertApp] Converting notebook ///content/drive/MyDrive/JLAB/GAN/testing/GAN.ipynb to html\n",
            "[NbConvertApp] Writing 788217 bytes to /content/drive/MyDrive/JLAB/GAN/testing/GAN.html\n"
          ]
        },
        {
          "output_type": "execute_result",
          "data": {
            "text/plain": []
          },
          "metadata": {},
          "execution_count": 21
        }
      ]
    },
    {
      "cell_type": "code",
      "source": [],
      "metadata": {
        "id": "Ln3tgKaDlX9c"
      },
      "execution_count": 20,
      "outputs": []
    }
  ]
}