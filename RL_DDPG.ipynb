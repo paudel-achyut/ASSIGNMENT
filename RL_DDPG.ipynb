{
  "nbformat": 4,
  "nbformat_minor": 0,
  "metadata": {
    "colab": {
      "provenance": []
    },
    "kernelspec": {
      "name": "python3",
      "display_name": "Python 3"
    },
    "language_info": {
      "name": "python"
    }
  },
  "cells": [
    {
      "cell_type": "markdown",
      "source": [
        "---\n",
        "# **Assignment One: Reinforcement Learning**\n",
        "---\n",
        "\n",
        "## Context:\n",
        "The goal of this exercise is to solve the inverted pendulum problem using reinforcement learning. The inverted pendulum swing-up problem is a classic problem in the control literature. In this version of the problem, the pendulum starts in a random position, and the goal is to swing it up so it stays upright.\n",
        "To solve this problem, implement the Deep Deterministic Policy Gradient (DDPG) algorithm in a python class and provide a script that coordinates the interaction between the agent and the environment. Please provides figures that capture the learning behavior of the agent. The applicant is expected to use the\n",
        "Pendulum-v0 environment provided by OpenAI gym.\n"
      ],
      "metadata": {
        "id": "hiYj6jvpUmqS"
      }
    },
    {
      "cell_type": "markdown",
      "source": [
        "---\n",
        "## **Importing necessary libraries**\n",
        "---"
      ],
      "metadata": {
        "id": "gZfnAxT9VTLa"
      }
    },
    {
      "cell_type": "code",
      "execution_count": null,
      "metadata": {
        "id": "97v3hD1Qo0zs"
      },
      "outputs": [],
      "source": [
        "import random\n",
        "import numpy as np\n",
        "import tensorflow as tf\n",
        "from tensorflow.keras.layers import Dense, Input\n",
        "from collections import deque \n",
        "import gym\n",
        "from gym import Wrapper\n",
        "import matplotlib.pyplot as plt\n"
      ]
    },
    {
      "cell_type": "code",
      "source": [
        "import warnings\n",
        "warnings.filterwarnings(\"ignore\", category=DeprecationWarning)"
      ],
      "metadata": {
        "colab": {
          "base_uri": "https://localhost:8080/"
        },
        "id": "kB6CYpu_A2c6",
        "outputId": "10b7e1c2-234c-439b-8385-86082f732ca3"
      },
      "execution_count": null,
      "outputs": [
        {
          "output_type": "stream",
          "name": "stderr",
          "text": [
            "/usr/local/lib/python3.10/dist-packages/ipykernel/ipkernel.py:283: DeprecationWarning: `should_run_async` will not call `transform_cell` automatically in the future. Please pass the result to `transformed_cell` argument and any exception that happen during thetransform in `preprocessing_exc_tuple` in IPython 7.17 and above.\n",
            "  and should_run_async(code)\n"
          ]
        }
      ]
    },
    {
      "cell_type": "markdown",
      "source": [
        "---\n",
        "## **Actor Class**\n",
        "---"
      ],
      "metadata": {
        "id": "5ge5YL5JVfuC"
      }
    },
    {
      "cell_type": "code",
      "source": [
        "class Actor(tf.keras.Model):\n",
        "    def __init__(self, state_dim, action_dim, action_bound):\n",
        "        super(Actor, self).__init__()\n",
        "        self.state_dim = state_dim\n",
        "        self.action_dim = action_dim\n",
        "        self.action_bound = action_bound\n",
        "\n",
        "        self.layer1 = Dense(256, activation='relu')\n",
        "        self.layer2 = Dense(256, activation='relu')\n",
        "        self.layer3 = Dense(action_dim, activation='tanh')\n",
        "\n",
        "    def call(self, state):\n",
        "        x = self.layer1(state)\n",
        "        x = self.layer2(x)\n",
        "        x = self.layer3(x)\n",
        "        return tf.multiply(x, self.action_bound)"
      ],
      "metadata": {
        "id": "ihrRHGIwVlkM"
      },
      "execution_count": null,
      "outputs": []
    },
    {
      "cell_type": "markdown",
      "source": [
        "---\n",
        "## **Critic Class**\n",
        "---"
      ],
      "metadata": {
        "id": "8uKEUI6JVl7b"
      }
    },
    {
      "cell_type": "code",
      "source": [
        "class Critic(tf.keras.Model):\n",
        "    def __init__(self, state_dim, action_dim):\n",
        "        super(Critic, self).__init__()\n",
        "        self.state_dim = state_dim\n",
        "        self.action_dim = action_dim\n",
        "\n",
        "        self.state_layer1 = Dense(16, activation='relu')\n",
        "        self.state_layer2 = Dense(32, activation='relu')\n",
        "\n",
        "        self.action_layer1 = Dense(256, activation='relu')\n",
        "\n",
        "        self.concat_layer = Dense(256, activation='relu')\n",
        "        self.layer_out = Dense(1)\n",
        "\n",
        "    def call(self, state, action):\n",
        "        state_out = self.state_layer1(state)\n",
        "        state_out = self.state_layer2(state_out)\n",
        "\n",
        "        action_out = self.action_layer1(action)\n",
        "\n",
        "        concat = tf.concat([state_out, action_out], axis=-1)\n",
        "        x = self.concat_layer(concat)\n",
        "        x = self.layer_out(x)\n",
        "        return x\n"
      ],
      "metadata": {
        "id": "KZOHnG5xo4I7"
      },
      "execution_count": null,
      "outputs": []
    },
    {
      "cell_type": "markdown",
      "source": [
        "---\n",
        "## **Agent Class**\n",
        "---"
      ],
      "metadata": {
        "id": "HFEXmuhSVrkj"
      }
    },
    {
      "cell_type": "code",
      "source": [
        "class DDPGAgent:\n",
        "    def __init__(self, env, actor_learning_rate=0.001, critic_learning_rate=0.002):\n",
        "        self.state_dim = env.observation_space.shape[0]\n",
        "        self.action_dim = env.action_space.shape[0]\n",
        "        self.action_bound = env.action_space.high[0]\n",
        "\n",
        "        self.actor = Actor(self.state_dim, self.action_dim, self.action_bound)\n",
        "        self.actor_target = Actor(self.state_dim, self.action_dim, self.action_bound)\n",
        "\n",
        "        self.critic = Critic(self.state_dim, self.action_dim)\n",
        "        self.critic_target = Critic(self.state_dim, self.action_dim)\n",
        "\n",
        "        # Use custom learning rates for the actor and critic\n",
        "        self.actor_optimizer = tf.keras.optimizers.Adam(learning_rate=actor_learning_rate)\n",
        "        self.critic_optimizer = tf.keras.optimizers.Adam(learning_rate=critic_learning_rate)\n",
        "\n",
        "        self.tau = 0.005\n",
        "\n",
        "    def policy(self, state):\n",
        "        state = np.expand_dims(state, axis=0)\n",
        "        return self.actor(state).numpy()[0]\n",
        "\n",
        "\n",
        "    def train(self, replay_buffer, batch_size=64):\n",
        "        # Sample experience from the replay buffer\n",
        "        state_batch, action_batch, reward_batch, next_state_batch, done_batch = replay_buffer.sample(batch_size)\n",
        "\n",
        "        # Update critic\n",
        "        with tf.GradientTape() as tape:\n",
        "            target_actions = self.actor_target(next_state_batch)\n",
        "            target_q_values = self.critic_target(next_state_batch, target_actions)\n",
        "            y = reward_batch + (1 - done_batch) * 0.99 * target_q_values\n",
        "            q_values = self.critic(state_batch, action_batch)\n",
        "            critic_loss = tf.keras.losses.MSE(y, q_values)\n",
        "\n",
        "        critic_gradients = tape.gradient(critic_loss, self.critic.trainable_variables)\n",
        "        self.critic_optimizer.apply_gradients(zip(critic_gradients, self.critic.trainable_variables))\n",
        "\n",
        "        # Update actor\n",
        "        with tf.GradientTape() as tape:\n",
        "            actions = self.actor(state_batch)\n",
        "            q_values = self.critic(state_batch, actions)\n",
        "            actor_loss = -tf.reduce_mean(q_values)\n",
        "\n",
        "        actor_gradients = tape.gradient(actor_loss, self.actor.trainable_variables)\n",
        "        self.actor_optimizer.apply_gradients(zip(actor_gradients, self.actor.trainable_variables))\n",
        "\n",
        "        # Perform soft update of the target networks\n",
        "        for target_var, var in zip(self.actor_target.trainable_variables, self.actor.trainable_variables):\n",
        "            target_var.assign((1 - self.tau) * target_var + self.tau * var)\n",
        "\n",
        "        for target_var, var in zip(self.critic_target.trainable_variables, self.critic.trainable_variables):\n",
        "            target_var.assign((1 - self.tau) * target_var + self.tau * var)\n",
        "\n"
      ],
      "metadata": {
        "id": "QXBeaEn40Zwk"
      },
      "execution_count": null,
      "outputs": []
    },
    {
      "cell_type": "markdown",
      "source": [
        "---\n",
        "## **Buffer Class**\n",
        "---"
      ],
      "metadata": {
        "id": "bWiew-wlVwV7"
      }
    },
    {
      "cell_type": "code",
      "source": [
        "class ReplayBuffer:\n",
        "    def __init__(self, max_size=100000):\n",
        "        self.buffer = deque(maxlen=max_size)\n",
        "\n",
        "    def add(self, state, action, reward, next_state, done):\n",
        "        self.buffer.append((state, action, reward, next_state, done))\n",
        "\n",
        "    def sample(self, batch_size):\n",
        "        states, actions, rewards, next_states, dones = zip(*random.sample(self.buffer, batch_size))\n",
        "\n",
        "        states = tf.convert_to_tensor(states, dtype=tf.float32)\n",
        "        actions = tf.convert_to_tensor(actions, dtype=tf.float32)\n",
        "        rewards = tf.convert_to_tensor(rewards, dtype=tf.float32)\n",
        "        next_states = tf.convert_to_tensor(next_states, dtype=tf.float32)\n",
        "        dones = tf.convert_to_tensor(dones, dtype=tf.float32)\n",
        "\n",
        "        return states, actions, rewards, next_states, dones\n",
        "\n",
        "    def __len__(self):\n",
        "        return len(self.buffer)\n"
      ],
      "metadata": {
        "id": "MimKGz1p1JTG"
      },
      "execution_count": null,
      "outputs": []
    },
    {
      "cell_type": "markdown",
      "source": [
        "---\n",
        "## **Driver Code: Main Loop**\n",
        "---"
      ],
      "metadata": {
        "id": "7pwBnCRIVypE"
      }
    },
    {
      "cell_type": "code",
      "source": [
        "if __name__ == \"__main__\":\n",
        "    env = gym.make('Pendulum-v1')\n",
        "\n",
        "    # Pass custom learning rates for the actor and critic\n",
        "    actor_learning_rate = 0.001\n",
        "    critic_learning_rate = 0.002\n",
        "\n",
        "    agent = DDPGAgent(env, actor_learning_rate, critic_learning_rate)\n",
        "    replay_buffer = ReplayBuffer(max_size=100000)\n",
        "\n",
        "    num_episodes = 100\n",
        "    batch_size = 64\n",
        "    episode_reward_list = []\n",
        "    avg_reward_list = []\n",
        "\n",
        "    for episode in range(num_episodes):\n",
        "        state = env.reset()\n",
        "        done = False\n",
        "        episode_reward = 0\n",
        "        best_score = -1000\n",
        "\n",
        "        while True:\n",
        "            action = agent.policy(state)\n",
        "\n",
        "            # Add exploration noise\n",
        "            noise = np.random.normal(0, 0.2, size=env.action_space.shape[0])\n",
        "            action = np.clip(action + noise, env.action_space.low, env.action_space.high)\n",
        "\n",
        "            next_state, reward, done, _ = env.step(action)\n",
        "\n",
        "            replay_buffer.add(state, action, reward, next_state, done)\n",
        "\n",
        "            state = next_state\n",
        "            episode_reward += reward\n",
        "\n",
        "            if len(replay_buffer.buffer) >= batch_size:\n",
        "                agent.train(replay_buffer, batch_size)\n",
        "\n",
        "            if done:\n",
        "                if episode_reward > best_score:\n",
        "                  best_score = episode_reward\n",
        "                break\n",
        "\n",
        "        episode_reward_list.append(episode_reward)\n",
        "        avg_reward = np.mean(episode_reward_list[-50:])\n",
        "        avg_reward_list.append(avg_reward)\n",
        "        print(f\"Episode {episode + 1}, Ep-Reward: {episode_reward}, Avg-Rewared: {avg_reward}\")\n",
        "\n",
        "    # Plot the average reward for each episode\n",
        "    plt.plot(avg_reward_list)\n",
        "    plt.xlabel('Episode')\n",
        "    plt.ylabel('Average Reward')\n",
        "    plt.title('DDPG Pendulum-v1')\n",
        "    plt.show()\n"
      ],
      "metadata": {
        "colab": {
          "base_uri": "https://localhost:8080/",
          "height": 1000
        },
        "id": "3u5-uneM1Y2H",
        "outputId": "a9b0b3ae-371e-45c5-9a43-a9468bd76348"
      },
      "execution_count": null,
      "outputs": [
        {
          "output_type": "stream",
          "name": "stdout",
          "text": [
            "Episode 1, Ep-Reward: -1065.8117158026496, Avg-Rewared: -1065.8117158026496\n",
            "Episode 2, Ep-Reward: -891.3300087740811, Avg-Rewared: -978.5708622883653\n",
            "Episode 3, Ep-Reward: -1071.686793387436, Avg-Rewared: -1009.6095059880555\n",
            "Episode 4, Ep-Reward: -1551.4846680243927, Avg-Rewared: -1145.07829649714\n",
            "Episode 5, Ep-Reward: -1394.4252263477094, Avg-Rewared: -1194.9476824672538\n",
            "Episode 6, Ep-Reward: -1145.1649997502625, Avg-Rewared: -1186.6505686810885\n",
            "Episode 7, Ep-Reward: -1318.5069680901477, Avg-Rewared: -1205.487197168097\n",
            "Episode 8, Ep-Reward: -1510.2290337968068, Avg-Rewared: -1243.5799267466857\n",
            "Episode 9, Ep-Reward: -1220.7170348723482, Avg-Rewared: -1241.0396054273149\n",
            "Episode 10, Ep-Reward: -1150.4071641173675, Avg-Rewared: -1231.9763612963202\n",
            "Episode 11, Ep-Reward: -970.3311012750207, Avg-Rewared: -1208.190428567111\n",
            "Episode 12, Ep-Reward: -1063.3366491830234, Avg-Rewared: -1196.1192802851037\n",
            "Episode 13, Ep-Reward: -861.5114331632765, Avg-Rewared: -1170.3802151218863\n",
            "Episode 14, Ep-Reward: -1000.5290592363297, Avg-Rewared: -1158.2479897014894\n",
            "Episode 15, Ep-Reward: -1555.2131767049539, Avg-Rewared: -1184.7123355017202\n",
            "Episode 16, Ep-Reward: -969.4029189045689, Avg-Rewared: -1171.2554969643984\n",
            "Episode 17, Ep-Reward: -1748.2393878370992, Avg-Rewared: -1205.195725839263\n",
            "Episode 18, Ep-Reward: -1172.7505634540498, Avg-Rewared: -1203.3932168178626\n",
            "Episode 19, Ep-Reward: -964.0724572291739, Avg-Rewared: -1190.7973873658261\n",
            "Episode 20, Ep-Reward: -1505.540545995632, Avg-Rewared: -1206.5345452973165\n",
            "Episode 21, Ep-Reward: -1159.809675913055, Avg-Rewared: -1204.3095515171135\n",
            "Episode 22, Ep-Reward: -1275.9219330180529, Avg-Rewared: -1207.5646597671564\n",
            "Episode 23, Ep-Reward: -1086.68747417437, Avg-Rewared: -1202.3091299587743\n",
            "Episode 24, Ep-Reward: -968.7331492611017, Avg-Rewared: -1192.5767974297046\n",
            "Episode 25, Ep-Reward: -1416.35683631257, Avg-Rewared: -1201.5279989850192\n",
            "Episode 26, Ep-Reward: -773.2894604889659, Avg-Rewared: -1185.0572859659403\n",
            "Episode 27, Ep-Reward: -958.3682446024904, Avg-Rewared: -1176.6613955450719\n",
            "Episode 28, Ep-Reward: -1073.125647360025, Avg-Rewared: -1172.9636902527486\n",
            "Episode 29, Ep-Reward: -1677.4828888544994, Avg-Rewared: -1190.3609039976366\n",
            "Episode 30, Ep-Reward: -1044.9493639619564, Avg-Rewared: -1185.5138526631138\n",
            "Episode 31, Ep-Reward: -1106.9461298830524, Avg-Rewared: -1182.9794099927892\n",
            "Episode 32, Ep-Reward: -1539.307543670444, Avg-Rewared: -1194.114664170216\n",
            "Episode 33, Ep-Reward: -1363.0388978997123, Avg-Rewared: -1199.233580343837\n",
            "Episode 34, Ep-Reward: -1506.7378238284662, Avg-Rewared: -1208.2778227992674\n",
            "Episode 35, Ep-Reward: -1128.7663453098783, Avg-Rewared: -1206.0060662995706\n",
            "Episode 36, Ep-Reward: -1205.8568027563622, Avg-Rewared: -1206.001920090037\n",
            "Episode 37, Ep-Reward: -1161.2100437726294, Avg-Rewared: -1204.7913288382151\n",
            "Episode 38, Ep-Reward: -1434.4199490766348, Avg-Rewared: -1210.834187265542\n",
            "Episode 39, Ep-Reward: -1065.8965365484542, Avg-Rewared: -1207.117837247155\n",
            "Episode 40, Ep-Reward: -1218.4930600569394, Avg-Rewared: -1207.4022178173996\n",
            "Episode 41, Ep-Reward: -1633.2236412648422, Avg-Rewared: -1217.7881061941666\n",
            "Episode 42, Ep-Reward: -1682.0052156460417, Avg-Rewared: -1228.8408945144492\n",
            "Episode 43, Ep-Reward: -1665.0566108560508, Avg-Rewared: -1238.9854460572774\n",
            "Episode 44, Ep-Reward: -1748.8110054321455, Avg-Rewared: -1250.5723905885243\n",
            "Episode 45, Ep-Reward: -1093.5570824636147, Avg-Rewared: -1247.0831615190818\n",
            "Episode 46, Ep-Reward: -1169.2473243932589, Avg-Rewared: -1245.3910781033032\n",
            "Episode 47, Ep-Reward: -1198.176265853851, Avg-Rewared: -1244.3865076299105\n",
            "Episode 48, Ep-Reward: -1419.3307550772859, Avg-Rewared: -1248.0311794517308\n",
            "Episode 49, Ep-Reward: -1103.7536622727766, Avg-Rewared: -1245.0867403256298\n",
            "Episode 50, Ep-Reward: -991.831801650834, Avg-Rewared: -1240.0216415521338\n",
            "Episode 51, Ep-Reward: -1499.7558031602405, Avg-Rewared: -1248.7005232992858\n",
            "Episode 52, Ep-Reward: -1174.3641353525848, Avg-Rewared: -1254.3612058308556\n",
            "Episode 53, Ep-Reward: -1400.9380590476155, Avg-Rewared: -1260.9462311440593\n",
            "Episode 54, Ep-Reward: -1160.3237637799355, Avg-Rewared: -1253.12301305917\n",
            "Episode 55, Ep-Reward: -1796.531267343532, Avg-Rewared: -1261.1651338790864\n",
            "Episode 56, Ep-Reward: -745.7758509877019, Avg-Rewared: -1253.1773509038355\n",
            "Episode 57, Ep-Reward: -1266.2050570439926, Avg-Rewared: -1252.1313126829123\n",
            "Episode 58, Ep-Reward: -966.6064449144288, Avg-Rewared: -1241.2588609052648\n",
            "Episode 59, Ep-Reward: -1237.071701455518, Avg-Rewared: -1241.5859542369283\n",
            "Episode 60, Ep-Reward: -1069.4481986506762, Avg-Rewared: -1239.9667749275943\n",
            "Episode 61, Ep-Reward: -1833.9315698104103, Avg-Rewared: -1257.238784298302\n",
            "Episode 62, Ep-Reward: -1659.8585011751381, Avg-Rewared: -1269.1692213381443\n",
            "Episode 63, Ep-Reward: -1167.6030849678425, Avg-Rewared: -1275.2910543742357\n",
            "Episode 64, Ep-Reward: -751.3808511829968, Avg-Rewared: -1270.308090213169\n",
            "Episode 65, Ep-Reward: -1456.0236765882512, Avg-Rewared: -1268.324300210835\n",
            "Episode 66, Ep-Reward: -1771.9026198825463, Avg-Rewared: -1284.3742942303945\n",
            "Episode 67, Ep-Reward: -1747.7058365745795, Avg-Rewared: -1284.363623205144\n",
            "Episode 68, Ep-Reward: -1079.4862686261872, Avg-Rewared: -1282.4983373085868\n",
            "Episode 69, Ep-Reward: -1882.041314998397, Avg-Rewared: -1300.8577144639714\n",
            "Episode 70, Ep-Reward: -764.4392800539598, Avg-Rewared: -1286.035689145138\n",
            "Episode 71, Ep-Reward: -1146.664588340884, Avg-Rewared: -1285.7727873936944\n",
            "Episode 72, Ep-Reward: -1567.496529728272, Avg-Rewared: -1291.604279327899\n",
            "Episode 73, Ep-Reward: -1165.551024300798, Avg-Rewared: -1293.1815503304274\n",
            "Episode 74, Ep-Reward: -1190.931511698252, Avg-Rewared: -1297.6255175791705\n",
            "Episode 75, Ep-Reward: -860.4655896387203, Avg-Rewared: -1286.5076926456936\n",
            "Episode 76, Ep-Reward: -1463.1384487047687, Avg-Rewared: -1300.3046724100095\n",
            "Episode 77, Ep-Reward: -1165.5959370983317, Avg-Rewared: -1304.4492262599263\n",
            "Episode 78, Ep-Reward: -1395.024239102131, Avg-Rewared: -1310.8871980947683\n",
            "Episode 79, Ep-Reward: -1530.6042363581148, Avg-Rewared: -1307.9496250448408\n",
            "Episode 80, Ep-Reward: -1774.8017157727422, Avg-Rewared: -1322.5466720810564\n",
            "Episode 81, Ep-Reward: -902.346066572987, Avg-Rewared: -1318.4546708148553\n",
            "Episode 82, Ep-Reward: -1445.2901999710018, Avg-Rewared: -1316.5743239408662\n",
            "Episode 83, Ep-Reward: -1042.4262361645474, Avg-Rewared: -1310.162070706163\n",
            "Episode 84, Ep-Reward: -1417.8839024355461, Avg-Rewared: -1308.3849922783045\n",
            "Episode 85, Ep-Reward: -1174.3235758780384, Avg-Rewared: -1309.2961368896677\n",
            "Episode 86, Ep-Reward: -970.0954352479512, Avg-Rewared: -1304.5809095394993\n",
            "Episode 87, Ep-Reward: -1253.082856341905, Avg-Rewared: -1306.4183657908852\n",
            "Episode 88, Ep-Reward: -1498.7830821922842, Avg-Rewared: -1307.705628453198\n",
            "Episode 89, Ep-Reward: -1290.1708409328646, Avg-Rewared: -1312.1911145408865\n",
            "Episode 90, Ep-Reward: -1799.9435918932352, Avg-Rewared: -1323.820125177612\n",
            "Episode 91, Ep-Reward: -1232.972017363966, Avg-Rewared: -1315.815092699595\n",
            "Episode 92, Ep-Reward: -1396.8672461423826, Avg-Rewared: -1310.1123333095215\n",
            "Episode 93, Ep-Reward: -1459.7072292798923, Avg-Rewared: -1306.0053456779983\n",
            "Episode 94, Ep-Reward: -1236.644978074063, Avg-Rewared: -1295.762025130837\n",
            "Episode 95, Ep-Reward: -1319.848653294989, Avg-Rewared: -1300.2878565474643\n",
            "Episode 96, Ep-Reward: -1755.2826839640416, Avg-Rewared: -1312.00856373888\n",
            "Episode 97, Ep-Reward: -1344.3603807943964, Avg-Rewared: -1314.9322460376907\n",
            "Episode 98, Ep-Reward: -1664.3574382911393, Avg-Rewared: -1319.8327797019679\n",
            "Episode 99, Ep-Reward: -760.623524838296, Avg-Rewared: -1312.970176953278\n",
            "Episode 100, Ep-Reward: -1197.8387650377113, Avg-Rewared: -1317.0903162210154\n"
          ]
        },
        {
          "output_type": "display_data",
          "data": {
            "text/plain": [
              "<Figure size 640x480 with 1 Axes>"
            ],
            "image/png": "[encoded data removed]"
          },
          "metadata": {}
        }
      ]
    },
    {
      "cell_type": "markdown",
      "source": [
        "---\n",
        "## **Convert notbook to HTML file**\n",
        "---"
      ],
      "metadata": {
        "id": "HTwJ3YEnZ4TV"
      }
    },
    {
      "cell_type": "code",
      "source": [
        "# access the google drive \n",
        "from google.colab import drive\n",
        "drive.mount('/content/drive')"
      ],
      "metadata": {
        "colab": {
          "base_uri": "https://localhost:8080/"
        },
        "id": "rcOzZj1VZ0rN",
        "outputId": "b17559b1-53e2-475e-8087-59b08a8afaef"
      },
      "execution_count": 1,
      "outputs": [
        {
          "output_type": "stream",
          "name": "stdout",
          "text": [
            "Mounted at /content/drive\n"
          ]
        }
      ]
    },
    {
      "cell_type": "code",
      "source": [
        "# convert to html\n",
        "%%shell\n",
        "jupyter nbconvert --to html ///content/drive/MyDrive/JLAB/RL_DDPG/RL_DDPG.ipynb"
      ],
      "metadata": {
        "id": "Tk1NuHmpZ6l1",
        "colab": {
          "base_uri": "https://localhost:8080/"
        },
        "outputId": "20405b23-6b8a-4793-e718-49cec48adb5c"
      },
      "execution_count": 2,
      "outputs": [
        {
          "output_type": "stream",
          "name": "stdout",
          "text": [
            "[NbConvertApp] Converting notebook ///content/drive/MyDrive/JLAB/RL_DDPG/RL_DDPG.ipynb to html\n",
            "[NbConvertApp] Writing 670353 bytes to /content/drive/MyDrive/JLAB/RL_DDPG/RL_DDPG.html\n"
          ]
        },
        {
          "output_type": "execute_result",
          "data": {
            "text/plain": []
          },
          "metadata": {},
          "execution_count": 2
        }
      ]
    },
    {
      "cell_type": "code",
      "source": [],
      "metadata": {
        "id": "izNipcBRae-2"
      },
      "execution_count": null,
      "outputs": []
    }
  ]
}